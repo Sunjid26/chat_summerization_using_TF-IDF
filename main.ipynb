{
 "cells": [
  {
   "cell_type": "markdown",
   "id": "798077a1",
   "metadata": {},
   "source": [
    "at first , lets handle input through txt file"
   ]
  },
  {
   "cell_type": "code",
   "execution_count": 1,
   "id": "c1778dd3",
   "metadata": {},
   "outputs": [],
   "source": [
    "def read_chat_file(path):\n",
    "    with open(path, 'r', encoding='utf-8') as f:\n",
    "        lines = f.readlines()\n",
    "\n",
    "    user_msgs = []\n",
    "    ai_msgs = []\n",
    "    all_msgs = []\n",
    "\n",
    "    for line in lines:\n",
    "        line = line.strip()\n",
    "        if line.startswith(\"User:\"):\n",
    "            msg = line[5:].strip()\n",
    "            user_msgs.append(msg)\n",
    "            all_msgs.append(msg)\n",
    "        elif line.startswith(\"AI:\"):\n",
    "            msg = line[3:].strip()\n",
    "            ai_msgs.append(msg)\n",
    "            all_msgs.append(msg)\n",
    "    return user_msgs, ai_msgs, all_msgs"
   ]
  },
  {
   "cell_type": "code",
   "execution_count": 12,
   "id": "b53c65e1",
   "metadata": {},
   "outputs": [],
   "source": [
    "import re\n",
    "import nltk\n",
    "#nltk.download('stopwords')\n",
    "from nltk.corpus import stopwords\n",
    "stop_words = set(stopwords.words('english'))"
   ]
  },
  {
   "cell_type": "markdown",
   "id": "09c07b58",
   "metadata": {},
   "source": [
    "as i plan to use tf-idf, i have to clean the texts. like remove punctuation marks."
   ]
  },
  {
   "cell_type": "code",
   "execution_count": 13,
   "id": "f5431cf9",
   "metadata": {},
   "outputs": [],
   "source": [
    "def clean_and_tokenize(text_list):\n",
    "    cleaned = []\n",
    "    for text in text_list:\n",
    "        text = text.lower()\n",
    "        text = re.sub(r'[^a-zA-Z0-9 ]', ' ', text)\n",
    "        tokens = [word for word in text.split() if word not in stop_words]\n",
    "        cleaned.append(\" \".join(tokens))\n",
    "    return cleaned"
   ]
  },
  {
   "cell_type": "code",
   "execution_count": 14,
   "id": "fd4dc8d8",
   "metadata": {},
   "outputs": [
    {
     "name": "stdout",
     "output_type": "stream",
     "text": [
      "['Hello!', 'Can you explain what machine learning is?']\n",
      "['Hi! How can I assist you today?', 'Certainly! Machine learning is a field of AI that allows systems to learn from data.']\n"
     ]
    }
   ],
   "source": [
    "chat_file = \"chat_file.txt\"\n",
    "user_msgs, ai_msgs, all_msgs = read_chat_file(chat_file)\n",
    "total_msgs = len(user_msgs) + len(ai_msgs)\n",
    "clean_msgs = clean_and_tokenize(all_msgs)\n",
    "print(user_msgs)\n",
    "print(ai_msgs)\n",
    "print(al)"
   ]
  },
  {
   "cell_type": "code",
   "execution_count": null,
   "id": "7532c443",
   "metadata": {},
   "outputs": [],
   "source": []
  }
 ],
 "metadata": {
  "kernelspec": {
   "display_name": "Python 3 (ipykernel)",
   "language": "python",
   "name": "python3"
  },
  "language_info": {
   "codemirror_mode": {
    "name": "ipython",
    "version": 3
   },
   "file_extension": ".py",
   "mimetype": "text/x-python",
   "name": "python",
   "nbconvert_exporter": "python",
   "pygments_lexer": "ipython3",
   "version": "3.11.3"
  }
 },
 "nbformat": 4,
 "nbformat_minor": 5
}

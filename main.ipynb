{
 "cells": [
  {
   "cell_type": "markdown",
   "id": "2041aeca",
   "metadata": {},
   "source": [
    "at first , lets handle input through txt file"
   ]
  },
  {
   "cell_type": "code",
   "execution_count": null,
   "id": "fdf498b2",
   "metadata": {},
   "outputs": [],
   "source": [
    "def read_chat_file(path):\n",
    "    with open(path, 'r', encoding='utf-8') as f:\n",
    "        lines = f.readlines()\n",
    "\n",
    "    user_msgs = []\n",
    "    ai_msgs = []\n",
    "    all_msgs = []\n",
    "\n",
    "    for line in lines:\n",
    "        line = line.strip()\n",
    "        if line.startswith(\"User:\"):\n",
    "            msg = line[5:].strip()\n",
    "            user_msgs.append(msg)\n",
    "            all_msgs.append(msg)\n",
    "        elif line.startswith(\"AI:\"):\n",
    "            msg = line[3:].strip()\n",
    "            ai_msgs.append(msg)\n",
    "            all_msgs.append(msg)\n",
    "    return user_msgs, ai_msgs, all_msgs"
   ]
  }
 ],
 "metadata": {
  "kernelspec": {
   "display_name": "Python 3 (ipykernel)",
   "language": "python",
   "name": "python3"
  },
  "language_info": {
   "codemirror_mode": {
    "name": "ipython",
    "version": 3
   },
   "file_extension": ".py",
   "mimetype": "text/x-python",
   "name": "python",
   "nbconvert_exporter": "python",
   "pygments_lexer": "ipython3",
   "version": "3.11.3"
  }
 },
 "nbformat": 4,
 "nbformat_minor": 5
}
